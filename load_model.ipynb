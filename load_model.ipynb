{
 "cells": [
  {
   "cell_type": "code",
   "execution_count": 1,
   "id": "daaf448c",
   "metadata": {},
   "outputs": [],
   "source": [
    "import numpy as np\n",
    "#import pandas as pd\n",
    "import matplotlib.pyplot as plt\n",
    "import tensorflow as tf\n",
    "from tensorflow.keras.applications.inception_v3 import InceptionV3\n",
    "from tensorflow import keras\n",
    "from tensorflow.keras import layers, models, optimizers\n",
    "#from sklearn.model_selection import train_test_split"
   ]
  },
  {
   "cell_type": "code",
   "execution_count": 2,
   "id": "d07d716c",
   "metadata": {},
   "outputs": [],
   "source": [
    "test_model = tf.keras.models.load_model(r'C:\\Users\\user\\Pictures\\model_two_lit')"
   ]
  },
  {
   "cell_type": "code",
   "execution_count": 3,
   "id": "c9f13bd8",
   "metadata": {},
   "outputs": [],
   "source": [
    "# test_model.summary()"
   ]
  },
  {
   "cell_type": "code",
   "execution_count": 4,
   "id": "0fd2708c",
   "metadata": {},
   "outputs": [
    {
     "name": "stdout",
     "output_type": "stream",
     "text": [
      "Found 16 files belonging to 1 classes.\n"
     ]
    }
   ],
   "source": [
    "# 生成 dataset\n",
    "test_dir = r\"D:/independent_study/program/DL/picture/classify/b\"\n",
    "\n",
    "test_dataset = tf.keras.preprocessing.image_dataset_from_directory(\n",
    "    test_dir,\n",
    "    labels=None,\n",
    "    label_mode=None,\n",
    "    class_names=None,\n",
    "    color_mode=\"rgb\",\n",
    "    batch_size=2,\n",
    "    image_size=(224, 224),\n",
    "    shuffle=False,\n",
    "    seed=0,\n",
    "    interpolation=\"bilinear\",\n",
    "    follow_links=False,\n",
    ")\n",
    "\n",
    "# 像素 0~255 -> 0~1\n",
    "\n",
    "normalization_layer = tf.keras.layers.experimental.preprocessing.Rescaling(1. / 255)\n",
    "test_dataset = test_dataset.map(lambda x: (normalization_layer(x)))\n"
   ]
  },
  {
   "cell_type": "code",
   "execution_count": 5,
   "id": "4c006ff6",
   "metadata": {},
   "outputs": [
    {
     "data": {
      "text/plain": [
       "<MapDataset element_spec=TensorSpec(shape=(None, 224, 224, 3), dtype=tf.float32, name=None)>"
      ]
     },
     "execution_count": 5,
     "metadata": {},
     "output_type": "execute_result"
    }
   ],
   "source": [
    "test_dataset"
   ]
  },
  {
   "cell_type": "code",
   "execution_count": 6,
   "id": "d3db341e",
   "metadata": {},
   "outputs": [
    {
     "name": "stdout",
     "output_type": "stream",
     "text": [
      "8/8 [==============================] - 4s 11ms/step\n"
     ]
    }
   ],
   "source": [
    "# 預測分類\n",
    "y_predict = test_model.predict(test_dataset)"
   ]
  },
  {
   "cell_type": "code",
   "execution_count": 7,
   "id": "3c046fdd",
   "metadata": {
    "scrolled": false
   },
   "outputs": [
    {
     "data": {
      "text/plain": [
       "array([[0.05522799, 0.944772  ],\n",
       "       [0.02983271, 0.97016734],\n",
       "       [0.13749681, 0.86250323],\n",
       "       [0.02519871, 0.9748013 ],\n",
       "       [0.04680618, 0.95319384],\n",
       "       [0.02334955, 0.9766505 ],\n",
       "       [0.01834072, 0.98165923],\n",
       "       [0.03215788, 0.9678421 ],\n",
       "       [0.01608356, 0.98391646],\n",
       "       [0.3139913 , 0.68600875],\n",
       "       [0.2827866 , 0.7172134 ],\n",
       "       [0.0633465 , 0.9366535 ],\n",
       "       [0.12425265, 0.8757474 ],\n",
       "       [0.07743286, 0.9225672 ],\n",
       "       [0.2725596 , 0.72744036],\n",
       "       [0.13483866, 0.86516136]], dtype=float32)"
      ]
     },
     "execution_count": 7,
     "metadata": {},
     "output_type": "execute_result"
    }
   ],
   "source": [
    "y_predict"
   ]
  },
  {
   "cell_type": "code",
   "execution_count": 8,
   "id": "8cccf9e2",
   "metadata": {
    "scrolled": true
   },
   "outputs": [
    {
     "data": {
      "text/plain": [
       "array([1, 1, 1, 1, 1, 1, 1, 1, 1, 1, 1, 1, 1, 1, 1, 1], dtype=int64)"
      ]
     },
     "execution_count": 8,
     "metadata": {},
     "output_type": "execute_result"
    }
   ],
   "source": [
    "# 選取機率最大的分類\n",
    "y_predict_lable = np.argmax(y_predict, axis=1)\n",
    "y_predict_lable"
   ]
  },
  {
   "cell_type": "code",
   "execution_count": 9,
   "id": "8027d42f",
   "metadata": {},
   "outputs": [],
   "source": [
    "#未知分類"
   ]
  },
  {
   "cell_type": "code",
   "execution_count": 10,
   "id": "59f77ea9",
   "metadata": {},
   "outputs": [],
   "source": [
    "def get_c_v(p_s='', class_num=2):\n",
    "    c_v = []  # 置信度向量\n",
    "    for label in range(class_num):\n",
    "        y_predict_lable = np.argmax(p_s, axis=1)\n",
    "        y_index = np.argwhere(y_predict_lable==label).reshape(-1)\n",
    "        p_temp = p_s[y_index]\n",
    "        p_temp = np.array(p_temp)\n",
    "        if len(np.shape(p_temp))<=1 or np.size(p_temp)<=1:\n",
    "            c = 1.0\n",
    "        else:\n",
    "            IQR = np.percentile(p_temp[:, label], 75) - np.percentile(p_temp[:, label], 25)\n",
    "            c = np.percentile(p_temp[:, label], 25) - 1.5*IQR\n",
    "        c_v.append(c)\n",
    "    return c_v"
   ]
  },
  {
   "cell_type": "code",
   "execution_count": 11,
   "id": "e66c262e",
   "metadata": {},
   "outputs": [
    {
     "data": {
      "text/plain": [
       "[1.0, 0.7042533233761787]"
      ]
     },
     "execution_count": 11,
     "metadata": {},
     "output_type": "execute_result"
    }
   ],
   "source": [
    "c = get_c_v(p_s = y_predict, class_num=2)\n",
    "c"
   ]
  },
  {
   "cell_type": "code",
   "execution_count": 12,
   "id": "7d52f7f6",
   "metadata": {},
   "outputs": [
    {
     "data": {
      "text/plain": [
       "array([ 1,  1,  1,  1,  1,  1,  1,  1,  1, -1,  1,  1,  1,  1,  1,  1])"
      ]
     },
     "execution_count": 12,
     "metadata": {},
     "output_type": "execute_result"
    }
   ],
   "source": [
    "def p_to_label(p_s='',c_v=\"\"):\n",
    "    y_predict_lable = np.argmax(p_s, axis=1)\n",
    "    y_out = np.zeros(y_predict_lable.shape)\n",
    "    for label in range(p_s.shape[1]):\n",
    "        y_index = np.argwhere(y_predict_lable==label).reshape(-1)\n",
    "        p_temp = y_predict[y_index][:,label]\n",
    "        p_temp = np.where(p_temp<c[label] ,-1 , label)\n",
    "        y_out[y_index] = p_temp\n",
    "    return y_out.astype(int)\n",
    "\n",
    "y_out = p_to_label(p_s=y_predict,c_v=c)\n",
    "y_out"
   ]
  },
  {
   "cell_type": "code",
   "execution_count": 13,
   "id": "f76bc6f9",
   "metadata": {},
   "outputs": [
    {
     "data": {
      "text/plain": [
       "[(1, 15), (-1, 1)]"
      ]
     },
     "execution_count": 13,
     "metadata": {},
     "output_type": "execute_result"
    }
   ],
   "source": [
    "from collections import Counter\n",
    "\n",
    "value = Counter(y_out).most_common()\n",
    "value\n",
    "# type(value)"
   ]
  },
  {
   "cell_type": "code",
   "execution_count": 14,
   "id": "fbe0737c",
   "metadata": {},
   "outputs": [
    {
     "data": {
      "text/plain": [
       "1"
      ]
     },
     "execution_count": 14,
     "metadata": {},
     "output_type": "execute_result"
    }
   ],
   "source": [
    "# import operator\n",
    "\n",
    "max_key = max(dict(value), key = dict(value).get)\n",
    "max_key"
   ]
  },
  {
   "cell_type": "markdown",
   "id": "e93ab94d",
   "metadata": {},
   "source": [
    "                        ############ 很重要!!! 記得儲存每次ㄉ模型紀錄 ############"
   ]
  }
 ],
 "metadata": {
  "kernelspec": {
   "display_name": "Python 3 (ipykernel)",
   "language": "python",
   "name": "python3"
  },
  "language_info": {
   "codemirror_mode": {
    "name": "ipython",
    "version": 3
   },
   "file_extension": ".py",
   "mimetype": "text/x-python",
   "name": "python",
   "nbconvert_exporter": "python",
   "pygments_lexer": "ipython3",
   "version": "3.8.13"
  }
 },
 "nbformat": 4,
 "nbformat_minor": 5
}
